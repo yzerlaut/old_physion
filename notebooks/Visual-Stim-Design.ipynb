{
 "cells": [
  {
   "cell_type": "markdown",
   "id": "bc0e74e5",
   "metadata": {},
   "source": [
    "# Visual Stimulation design and procedures"
   ]
  },
  {
   "cell_type": "code",
   "execution_count": 1,
   "id": "658da012",
   "metadata": {},
   "outputs": [],
   "source": [
    "import sys\n",
    "sys.path.append('..')\n",
    "from physion.dataviz.datavyz.datavyz import graph_env_manuscript as ge\n",
    "import numpy as np"
   ]
  },
  {
   "cell_type": "code",
   "execution_count": 2,
   "id": "74dec2e8",
   "metadata": {},
   "outputs": [
    {
     "data": {
      "image/png": "[encoded data removed]",
      "text/plain": [
       "<Figure size 119.055x102.047 with 1 Axes>"
      ]
     },
     "metadata": {},
     "output_type": "display_data"
    }
   ],
   "source": [
    "def cm_to_angle(distance,\n",
    "                distance_from_eye=15.):\n",
    "    # distance_from_eye in cm\n",
    "    return 180./np.pi*np.arctan(distance/distance_from_eye)\n",
    "\n",
    "def cm_to_angle_lin(distance, distance_from_eye=15.):\n",
    "    return cm_to_angle(1, distance_from_eye=distance_from_eye)*distance\n",
    "\n",
    "def angle_to_cm(angle,\n",
    "                distance_from_eye=15.):\n",
    "    # distance_from_eye in cm\n",
    "    return distance_from_eye*np.tan(np.pi*angle/180.)\n",
    "\n",
    "screen_width = 48. # cm\n",
    "screen_height = 27. # cm\n",
    "distance_from_eye = 15. # cm\n",
    "\n",
    "max_height = cm_to_angle(screen_height/2.)\n",
    "max_width = cm_to_angle(screen_width/2.)\n",
    "\n",
    "angles = np.linspace(0, 1.3*max_width, 100) #\n",
    "positions = angle_to_cm(angles, distance_from_eye=distance_from_eye)\n",
    "\n",
    "fig, ax = ge.figure()\n",
    "ax.plot(angles, positions, color='k')\n",
    "ge.plot(angles, angle_to_cm(1)*angles, ls='--', ax=ax, no_set=True, color=ge.red)\n",
    "ge.annotate(ax, 'lin. approx.', (0.9,0.35), color=ge.red)\n",
    "\n",
    "ax.plot(np.ones(2)*max_height, [0,positions.max()], ':', color=ge.green, lw=1)\n",
    "ge.annotate(ax, 'max.\\naltitude', (max_height,positions.max()), color=ge.green, xycoords='data', va='top', ha='right')\n",
    "\n",
    "ax.plot(np.ones(2)*max_width, [0,positions.max()], ':', color=ge.blue, lw=1)\n",
    "ge.annotate(ax, 'max.\\nazimuth', (max_width,positions.max()), color=ge.blue, xycoords='data', ha='center')\n",
    "\n",
    "ge.set_plot(ax, \n",
    "            ylabel='distance (cm) \\nfrom center',\n",
    "            xlabel='angle (deg)\\nfrom center',\n",
    "            ylim=[0,positions.max()])\n",
    "\n",
    "ge.save_on_desktop(fig)"
   ]
  },
  {
   "cell_type": "code",
   "execution_count": 3,
   "id": "ecb9c746",
   "metadata": {},
   "outputs": [
    {
     "data": {
      "image/png": "[encoded data removed]",
      "text/plain": [
       "<Figure size 172.8x97.2 with 1 Axes>"
      ]
     },
     "metadata": {
      "needs_background": "light"
     },
     "output_type": "display_data"
    }
   ],
   "source": [
    "import matplotlib.pylab as plt\n",
    "fig, ax = plt.subplots(figsize=(screen_width/20.,screen_height/20.))\n",
    "ge.draw_bar_scales(ax, Ybar=angle_to_cm(20), Xbar=angle_to_cm(20), Xbar_label='20$^o$', Ybar_label='20$^o$')\n",
    "ax.set_xlim(np.arange(-1,3,2)*screen_width/2.)\n",
    "ax.set_ylim(np.arange(-1,3,2)*screen_height/2.)\n",
    "ax.set_xlabel('x-coord (cm)')\n",
    "ax.set_ylabel('z-coord (cm)')\n",
    "ax.set_title('screen coordinates')\n",
    "ge.save_on_desktop(fig)"
   ]
  },
  {
   "cell_type": "code",
   "execution_count": 4,
   "id": "0c635389",
   "metadata": {},
   "outputs": [
    {
     "name": "stdout",
     "output_type": "stream",
     "text": [
      "visual field covered:\n",
      "azimuth: 57.9946167919165\n",
      "altitude: 41.98721249581666\n"
     ]
    }
   ],
   "source": [
    "print('visual field covered:')\n",
    "print('azimuth:', cm_to_angle(screen_width/2.))\n",
    "print('altitude:', cm_to_angle(screen_height/2.))"
   ]
  },
  {
   "cell_type": "markdown",
   "id": "9e776616",
   "metadata": {},
   "source": [
    "## stim design"
   ]
  },
  {
   "cell_type": "code",
   "execution_count": 52,
   "id": "15befda9",
   "metadata": {},
   "outputs": [],
   "source": [
    "# start from a simple protocol to load all required data\n",
    "import json, os\n",
    "with open(os.path.join('..', 'physion', 'exp', 'protocols', 'demo', 'uniform-bg.json')) as j:\n",
    "    protocol = json.load(j)\n",
    "    \n",
    "from physion.visual_stim.stimuli import build_stim, init_bg_image\n",
    "protocol['no-window'] = True\n",
    "stim = build_stim(protocol)"
   ]
  },
  {
   "cell_type": "code",
   "execution_count": 85,
   "id": "b1b701a5",
   "metadata": {},
   "outputs": [],
   "source": [
    "def compute_new_image_with_dots(self, index, dot_size, Ndots,\n",
    "                                away_from_edges_factor=4):\n",
    "    dot_size_pix = int(np.round(self.angle_to_pix(dot_size),0))\n",
    "    Nx = int(self.x.shape[0]/dot_size_pix)\n",
    "    Nz = int(self.x.shape[1]/dot_size_pix)\n",
    "    dots = []\n",
    "    img = init_bg_image(self, index)\n",
    "    for n in range(Ndots):\n",
    "        ix, iz = (np.random.choice(np.arange(away_from_edges_factor, Nx-away_from_edges_factor),1)[0],\n",
    "                  np.random.choice(range(away_from_edges_factor,Nz-away_from_edges_factor),1)[0])\n",
    "        img[dot_size_pix*ix:dot_size_pix*(ix+1),\n",
    "            dot_size_pix*iz:dot_size_pix*(iz+1)] = 1\n",
    "    return img\n",
    "        \n",
    "img = compute_new_image_with_dots(stim, 0, 5, 8)"
   ]
  }
 ],
 "metadata": {
  "kernelspec": {
   "display_name": "Python 3 (ipykernel)",
   "language": "python",
   "name": "python3"
  },
  "language_info": {
   "codemirror_mode": {
    "name": "ipython",
    "version": 3
   },
   "file_extension": ".py",
   "mimetype": "text/x-python",
   "name": "python",
   "nbconvert_exporter": "python",
   "pygments_lexer": "ipython3",
   "version": "3.7.10"
  }
 },
 "nbformat": 4,
 "nbformat_minor": 5
}

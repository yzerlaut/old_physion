{
 "cells": [
  {
   "cell_type": "markdown",
   "id": "experienced-reviewer",
   "metadata": {},
   "source": [
    "# Decoding stimulus identity from neural responses\n",
    "\n",
    "We implement here a nearest-neighbor decoder of neural activity."
   ]
  },
  {
   "cell_type": "code",
   "execution_count": 1,
   "id": "weighted-cameroon",
   "metadata": {},
   "outputs": [
    {
     "name": "stdout",
     "output_type": "stream",
     "text": [
      "pygame 2.1.2 (SDL 2.0.16, Python 3.7.10)\n",
      "Hello from the pygame community. https://www.pygame.org/contribute.html\n"
     ]
    }
   ],
   "source": [
    "# general modules\n",
    "import pynwb, os, sys, pprint, itertools\n",
    "import numpy as np\n",
    "import matplotlib.pylab as plt\n",
    "\n",
    "# custom modules\n",
    "sys.path.append('../physion')\n",
    "from dataviz.show_data import MultimodalData, EpisodeResponse\n",
    "from datavyz import graph_env_manuscript as ge"
   ]
  },
  {
   "cell_type": "code",
   "execution_count": 2,
   "id": "b890dcf9",
   "metadata": {},
   "outputs": [
    {
     "name": "stdout",
     "output_type": "stream",
     "text": [
      "NWB-file reading time: 166.2ms\n",
      "  Number of episodes over the whole recording: 90/180 (with protocol condition)\n",
      "  building episodes with 5 modalities [...]\n",
      "\n",
      "calculating dF/F with method \"maximin\" [...]\n",
      "\n",
      "  ** 1 ROIs were discarded with the positive F0 criterion (0.4%) ** \n",
      "\n",
      "-> dFoF calculus done !  (calculation took 0.5s)\n",
      "----\n",
      "A value in x_new is above the interpolation range.\n",
      "-2.990000000000009 9.470000000000027 8.0\n",
      "Problem with episode 179 between (1796.49, 1804.49)s\n",
      "  -> [ok] episodes ready !\n",
      "NWB-file reading time: 182.4ms\n",
      "  Number of episodes over the whole recording: 90/180 (with protocol condition)\n",
      "  building episodes with 5 modalities [...]\n",
      "\n",
      "calculating dF/F with method \"maximin\" [...]\n",
      "\n",
      "  ** 1 ROIs were discarded with the positive F0 criterion (0.4%) ** \n",
      "\n",
      "-> dFoF calculus done !  (calculation took 0.4s)\n",
      "  -> [ok] episodes ready !\n",
      "episodes_NI: NI-VSE-3images-1vse-30trials\n",
      "episodes_GB: gaussian-blobs\n"
     ]
    }
   ],
   "source": [
    "filename = '/home/yann.zerlaut/DATA/curated/2022_03_16-16-21-18.nwb'\n",
    "filename = '/home/yann.zerlaut/DATA/curated/2022_03_31-16-12-35.nwb'\n",
    "filename = '/home/yann.zerlaut/DATA/curated/2022_05_30-16-46-56.nwb'\n",
    "data = MultimodalData(filename)\n",
    "\n",
    "episodes_NI = EpisodeResponse(filename, \n",
    "                           quantities=['dFoF', 'rawFluo', 'pupil', 'Running-Speed', 'facemotion'], \n",
    "                           protocol_id=1,\n",
    "                           verbose=True, prestim_duration=1.5)\n",
    "\n",
    "episodes_GB = EpisodeResponse(filename, \n",
    "                           quantities=['dFoF', 'rawFluo', 'pupil', 'Running-Speed', 'facemotion'], \n",
    "                           protocol_id=0,\n",
    "                           verbose=True, prestim_duration=1.5)\n",
    "\n",
    "print('episodes_NI:', episodes_NI.protocol_name)\n",
    "print('episodes_GB:', episodes_GB.protocol_name)"
   ]
  },
  {
   "cell_type": "code",
   "execution_count": 3,
   "id": "18f2f1f5",
   "metadata": {},
   "outputs": [
    {
     "name": "stdout",
     "output_type": "stream",
     "text": [
      "\n",
      " -* Varied Parameters *- \n",
      "\n",
      "['Image-ID']\n"
     ]
    }
   ],
   "source": [
    "print('\\n -* Varied Parameters *- \\n')\n",
    "VP = [key for key in episodes_NI.varied_parameters if key!='repeat'] # varied parameters except rpeat\n",
    "print(VP)"
   ]
  },
  {
   "cell_type": "code",
   "execution_count": 22,
   "id": "3332e6b0",
   "metadata": {},
   "outputs": [
    {
     "name": "stdout",
     "output_type": "stream",
     "text": [
      "[[1, 5, 6, 9, 12, 15, 17, 19, 20, 25, 31, 34, 35, 42, 45, 49, 79, 88, 92, 104, 106, 119, 128, 134, 154, 161, 177, 196, 198, 203, 205, 219, 237, 249, 250, 262], [1, 2, 5, 6, 7, 10, 11, 17, 18, 19, 20, 31, 36, 37, 45, 79, 107, 112, 119, 125, 126, 132, 149, 154, 185, 188, 205, 232, 249, 250], [2, 5, 6, 14, 18, 20, 31, 42, 45, 61, 64, 79, 104, 110, 118, 119, 144, 149, 154, 236, 238]]\n",
      "{'value': array([0.16133091, 0.12544252, 0.05515161]), 'significant': array([ True,  True,  True]), 'relative_value': array([0.36529026, 0.28279531, 0.1261252 ]), 'Image-ID': array([1., 2., 3.]), 'Image-ID-bins': array([0.5, 1.5, 2.5, 3.5])}\n"
     ]
    }
   ],
   "source": [
    "episodes=episodes_NI\n",
    "SUMMARY = {'significant_rois':[[] for i in range(np.product([len(episodes.varied_parameters[key]) for key in VP]))],\n",
    "           'stim_pair':[[0,0], [0,1], [1,0], [1,1]]}\n",
    "duration = episodes.data.metadata['Protocol-%i-presentation-duration' % (episodes.protocol_id+1)]\n",
    "value_threshold = .2\n",
    "# looping over neurons\n",
    "for roi in range(episodes.data.nROIs):\n",
    "    roi_summary = episodes.compute_summary_data(dict(interval_pre=[-2,0], \n",
    "                                                      interval_post=[0,duration],\n",
    "                                                      test='wilcoxon', \n",
    "                                                      positive=True),\n",
    "                                                 response_args={'quantity':'dFoF', \n",
    "                                                                'roiIndex':roi},\n",
    "                                               response_significance_threshold=0.01)\n",
    "    for istim in range(len(roi_summary['significant'])):\n",
    "        if roi_summary['significant'][istim] and (roi_summary['value'][istim]>value_threshold):\n",
    "            SUMMARY['significant_rois'][istim].append(roi)           \n",
    "            \n",
    "print(SUMMARY['significant_rois'])\n",
    "print(roi_summary)\n"
   ]
  },
  {
   "cell_type": "code",
   "execution_count": null,
   "id": "987b7556",
   "metadata": {},
   "outputs": [],
   "source": [
    "stim_index = 2\n",
    "SUMMARY['stim_pair']:[[0,0], [0,1], [0,2], [0,3]]\n",
    "np.random.seed(1)\n",
    "Nrois = min(len(SUMMARY['significant_rois'][stim_index]), 8)\n",
    "fig = episodes.plot_evoked_pattern(episodes.find_episode_cond(VP, SUMMARY['stim_pair'][stim_index]),\n",
    "                                   rois=np.random.choice(SUMMARY['significant_rois'][stim_index], Nrois,replace=False),\n",
    "                                   quantity='dFoF')\n",
    "ge.save_on_desktop(fig)"
   ]
  },
  {
   "cell_type": "code",
   "execution_count": 4,
   "id": "24060c02-1ed4-4008-a867-7d23e008ef5a",
   "metadata": {},
   "outputs": [],
   "source": [
    "from sklearn.model_selection import train_test_split\n",
    "from sklearn.neighbors import KNeighborsClassifier\n",
    "\n",
    "def run_model(episodes, key, condition, seed=1):\n",
    "    X_train, X_test, y_train, y_test = train_test_split([episodes.dFoF[i,:,:].flatten() for i in range(episodes.dFoF.shape[0])],\n",
    "                                                        getattr(episodes, key),\n",
    "                                                        test_size=0.5, random_state=seed)\n",
    "    #print(X_train.shape)\n",
    "    nn_model = KNeighborsClassifier(n_neighbors=1, algorithm='brute').fit(X_train, y_train)\n",
    "    y_predicted = nn_model.predict(X_test)\n",
    "    return np.sum((y_predicted-y_test)==0)/len(y_test)"
   ]
  },
  {
   "cell_type": "code",
   "execution_count": null,
   "id": "b34381c7-a13e-479a-8539-4e561fc32c29",
   "metadata": {},
   "outputs": [],
   "source": [
    "episodes = episodes_NI\n",
    "threshold = .7\n",
    "All = np.ones(episodes_NI.shape[0], dtype=str)\n",
    "High = \n",
    "#Low = \n",
    "print(High)"
   ]
  },
  {
   "cell_type": "code",
   "execution_count": 12,
   "id": "214e0d93-55b3-415b-ba0a-a71177db6e3e",
   "metadata": {},
   "outputs": [],
   "source": [
    "accuracies_NI_all = [run_model(episodes_NI, 'Image-ID', seed=i) for i in range(5)]"
   ]
  },
  {
   "cell_type": "code",
   "execution_count": 13,
   "id": "2ac6b73f-65cd-4de3-b421-642a1ccb42ed",
   "metadata": {},
   "outputs": [],
   "source": [
    "accuracies_GB = [run_model(episodes_GB, 'center-time', seed=i) for i in range(5)]"
   ]
  },
  {
   "cell_type": "code",
   "execution_count": 6,
   "id": "0238b96f-69ce-4a8f-a984-23495760f9e4",
   "metadata": {},
   "outputs": [
    {
     "ename": "NameError",
     "evalue": "name 'accuracies_NI_all' is not defined",
     "output_type": "error",
     "traceback": [
      "\u001b[0;31m---------------------------------------------------------------------------\u001b[0m",
      "\u001b[0;31mNameError\u001b[0m                                 Traceback (most recent call last)",
      "\u001b[0;32m/tmp/ipykernel_31518/2906409160.py\u001b[0m in \u001b[0;36m<module>\u001b[0;34m\u001b[0m\n\u001b[0;32m----> 1\u001b[0;31m \u001b[0mprint\u001b[0m\u001b[0;34m(\u001b[0m\u001b[0maccuracies_NI_all\u001b[0m\u001b[0;34m,\u001b[0m \u001b[0maccuracies_GB\u001b[0m\u001b[0;34m)\u001b[0m\u001b[0;34m\u001b[0m\u001b[0;34m\u001b[0m\u001b[0m\n\u001b[0m\u001b[1;32m      2\u001b[0m \u001b[0mge\u001b[0m\u001b[0;34m.\u001b[0m\u001b[0mbar\u001b[0m\u001b[0;34m(\u001b[0m\u001b[0;34m[\u001b[0m\u001b[0;36m100\u001b[0m\u001b[0;34m*\u001b[0m\u001b[0mnp\u001b[0m\u001b[0;34m.\u001b[0m\u001b[0mmean\u001b[0m\u001b[0;34m(\u001b[0m\u001b[0maccuracies_NI_all\u001b[0m\u001b[0;34m)\u001b[0m\u001b[0;34m,\u001b[0m \u001b[0;36m100\u001b[0m\u001b[0;34m*\u001b[0m\u001b[0mnp\u001b[0m\u001b[0;34m.\u001b[0m\u001b[0mmean\u001b[0m\u001b[0;34m(\u001b[0m\u001b[0maccuracies_GB\u001b[0m\u001b[0;34m)\u001b[0m\u001b[0;34m]\u001b[0m\u001b[0;34m,\u001b[0m \u001b[0msy\u001b[0m\u001b[0;34m=\u001b[0m\u001b[0;34m[\u001b[0m\u001b[0;36m100\u001b[0m\u001b[0;34m*\u001b[0m\u001b[0mnp\u001b[0m\u001b[0;34m.\u001b[0m\u001b[0mstd\u001b[0m\u001b[0;34m(\u001b[0m\u001b[0maccuracies_NI_all\u001b[0m\u001b[0;34m)\u001b[0m\u001b[0;34m,\u001b[0m \u001b[0;36m100\u001b[0m\u001b[0;34m*\u001b[0m\u001b[0mnp\u001b[0m\u001b[0;34m.\u001b[0m\u001b[0mstd\u001b[0m\u001b[0;34m(\u001b[0m\u001b[0maccuracies_GB\u001b[0m\u001b[0;34m)\u001b[0m\u001b[0;34m]\u001b[0m\u001b[0;34m)\u001b[0m\u001b[0;34m\u001b[0m\u001b[0;34m\u001b[0m\u001b[0m\n",
      "\u001b[0;31mNameError\u001b[0m: name 'accuracies_NI_all' is not defined"
     ]
    }
   ],
   "source": [
    "print(accuracies_NI_all, accuracies_GB)\n",
    "ge.bar([100*np.mean(accuracies_NI_all), 100*np.mean(accuracies_GB)], sy=[100*np.std(accuracies_NI_all), 100*np.std(accuracies_GB)])"
   ]
  },
  {
   "cell_type": "code",
   "execution_count": 15,
   "id": "3cc026d3-d3a4-4ba3-aabe-12a55651971a",
   "metadata": {},
   "outputs": [
    {
     "data": {
      "text/plain": [
       "(<Figure size 119.055x102.047 with 1 Axes>,\n",
       " <AxesSubplot:xlabel='pupil size', ylabel='count'>)"
      ]
     },
     "execution_count": 15,
     "metadata": {},
     "output_type": "execute_result"
    },
    {
     "data": {
      "image/png": "[encoded data removed]",
      "text/plain": [
       "<Figure size 119.055x102.047 with 1 Axes>"
      ]
     },
     "metadata": {},
     "output_type": "display_data"
    }
   ],
   "source": [
    "ge.hist(episodes.pupilSize.mean(axis=1), xlabel='pupil size')"
   ]
  },
  {
   "cell_type": "code",
   "execution_count": 18,
   "id": "1380c2cd-09a3-4fae-bbe2-31f1c95d75e7",
   "metadata": {},
   "outputs": [
    {
     "data": {
      "text/plain": [
       "(<Figure size 119.055x102.047 with 1 Axes>,\n",
       " <AxesSubplot:xlabel='pupil size', ylabel='count'>)"
      ]
     },
     "execution_count": 18,
     "metadata": {},
     "output_type": "execute_result"
    },
    {
     "data": {
      "image/png": "[encoded data removed]",
      "text/plain": [
       "<Figure size 119.055x102.047 with 1 Axes>"
      ]
     },
     "metadata": {},
     "output_type": "display_data"
    }
   ],
   "source": [
    "ge.hist(episodes.faceMotion.mean(axis=1), xlabel='face-motion')"
   ]
  },
  {
   "cell_type": "code",
   "execution_count": 21,
   "id": "9f556f2f-e357-4f59-8e23-0b46969606ce",
   "metadata": {},
   "outputs": [
    {
     "data": {
      "text/plain": [
       "(<Figure size 119.055x102.047 with 1 Axes>,\n",
       " <AxesSubplot:xlabel='pupil size', ylabel='count'>)"
      ]
     },
     "execution_count": 21,
     "metadata": {},
     "output_type": "execute_result"
    },
    {
     "data": {
      "image/png": "[encoded data removed]",
      "text/plain": [
       "<Figure size 119.055x102.047 with 1 Axes>"
      ]
     },
     "metadata": {},
     "output_type": "display_data"
    }
   ],
   "source": [
    "ge.hist(episodes.RunningSpeed.mean(axis=1), xlabel='face-motion')"
   ]
  },
  {
   "cell_type": "code",
   "execution_count": 23,
   "id": "2712c23f-f89c-4a03-aad2-c859454fb2c1",
   "metadata": {},
   "outputs": [
    {
     "data": {
      "text/plain": [
       "(<Figure size 119.055x102.047 with 1 Axes>, <AxesSubplot:>)"
      ]
     },
     "execution_count": 23,
     "metadata": {},
     "output_type": "execute_result"
    },
    {
     "data": {
      "image/png": "[encoded data removed]",
      "text/plain": [
       "<Figure size 119.055x102.047 with 1 Axes>"
      ]
     },
     "metadata": {},
     "output_type": "display_data"
    }
   ],
   "source": [
    "ge.scatter(episodes.RunningSpeed.mean(axis=1),episodes.pupilSize.mean(axis=1))"
   ]
  },
  {
   "cell_type": "code",
   "execution_count": 22,
   "id": "e3b51d01-4947-4dc1-8246-7a9287c1bb90",
   "metadata": {},
   "outputs": [
    {
     "data": {
      "text/plain": [
       "(<Figure size 119.055x102.047 with 1 Axes>, <AxesSubplot:>)"
      ]
     },
     "execution_count": 22,
     "metadata": {},
     "output_type": "execute_result"
    },
    {
     "data": {
      "image/png": "[encoded data removed]",
      "text/plain": [
       "<Figure size 119.055x102.047 with 1 Axes>"
      ]
     },
     "metadata": {},
     "output_type": "display_data"
    }
   ],
   "source": [
    "ge.scatter(episodes.RunningSpeed.mean(axis=1), episodes.faceMotion.mean(axis=1))"
   ]
  },
  {
   "cell_type": "code",
   "execution_count": null,
   "id": "df2271e6",
   "metadata": {},
   "outputs": [],
   "source": [
    "fig, AX = ge.figure(axes_extents=[[[1,3] for i in range(4)],\n",
    "                                  [[1,9] for i in range(4)]], \n",
    "                     figsize=(1.3, .3), left=0.3,\n",
    "                     top=12, right=3, wspace=1.2)\n",
    " \n",
    "\n",
    "for stim_index in range(4):\n",
    "    np.random.seed(6)\n",
    "    episodes.plot_evoked_pattern(episodes.find_episode_cond(VP, SUMMARY['stim_pair'][stim_index]),\n",
    "                                   rois=np.random.choice(SUMMARY['significant_rois'][stim_index], 8, replace=True),\n",
    "                                   quantity='dFoF',\n",
    "                                 axR=AX[0][stim_index], axT=AX[1][stim_index])\n",
    "#ge.save_on_desktop(fig, 'fig.png')"
   ]
  },
  {
   "cell_type": "code",
   "execution_count": 71,
   "id": "e3a2dc0d-fed1-440a-9ee5-b09b7ff0ccef",
   "metadata": {},
   "outputs": [
    {
     "name": "stdout",
     "output_type": "stream",
     "text": [
      "['spatial-mapping-fast' 'gaussian-blobs']\n",
      "NWB-file reading time: 156.8ms\n",
      "  Number of episodes over the whole recording: 120/300 (with protocol condition)\n",
      "  building episodes with 2 modalities [...]\n",
      "\n",
      "calculating dF/F with method \"maximin\" [...]\n",
      "\n",
      "  ** all ROIs passed the positive F0 criterion ** \n",
      "\n",
      "-> dFoF calculus done !  (calculation took 1.1s)\n",
      "  -> [ok] episodes ready !\n"
     ]
    }
   ],
   "source": [
    "# general modules\n",
    "import pynwb, os, sys, pprint, itertools\n",
    "import numpy as np\n",
    "import matplotlib.pylab as plt\n",
    "\n",
    "# custom modules\n",
    "sys.path.append('../physion')\n",
    "from analysis.read_NWB import Data\n",
    "from dataviz.show_data import MultimodalData, EpisodeResponse\n",
    "from datavyz import graph_env_manuscript as ge\n",
    "#filename = '/home/yann.zerlaut/DATA/2022_05_30-16-46-56.nwb'\n",
    "filename = '/home/yann.zerlaut/DATA/curated/2022_03_31-15-43-55.nwb'\n",
    "filename = '/home/yann.zerlaut/DATA/curated/2022_03_01-15-25-17.nwb'\n",
    "data = Data(filename, metadata_only=True)\n",
    "print(data.protocols)\n",
    "\n",
    "episodes = EpisodeResponse(filename, quantities=['dFoF', 'Zscore_dFoF'], \n",
    "                           verbose=True, prestim_duration=1.5,\n",
    "                           protocol_id=1)"
   ]
  },
  {
   "cell_type": "code",
   "execution_count": 72,
   "id": "cd1f14aa-9039-400a-bcdf-81e638293e3f",
   "metadata": {},
   "outputs": [
    {
     "name": "stdout",
     "output_type": "stream",
     "text": [
      "\n",
      " there are several modalities in that episode\n",
      "     -> need to define the desired quantity, here taking: \"dFoF\"\n",
      "X-bar label automatically set to:  1.1  Using the format %.1f  --> adjust it and add units through the format !\n",
      "Y-bar label automatically set to:  0.3  Using the format %.1f  --> adjust it and add units through the format !\n"
     ]
    },
    {
     "data": {
      "text/plain": [
       "{'center-time': array([2., 4., 6.]),\n",
       " 'radius': array([10., 25.]),\n",
       " 'repeat': array([ 0,  1,  2,  3,  4,  5,  6,  7,  8,  9, 10, 11, 12, 13, 14, 15, 16,\n",
       "        17, 18, 19], dtype=int32)}"
      ]
     },
     "execution_count": 72,
     "metadata": {},
     "output_type": "execute_result"
    },
    {
     "data": {
      "image/png": "[encoded data removed]",
      "text/plain": [
       "<Figure size 334.488x102.047 with 3 Axes>"
      ]
     },
     "metadata": {},
     "output_type": "display_data"
    }
   ],
   "source": [
    "episodes.plot_trial_average(column_key='center-time', roiIndices='all')\n",
    "episodes.varied_parameters"
   ]
  },
  {
   "cell_type": "code",
   "execution_count": 76,
   "id": "bdba6bc0-de5f-45e9-a6e9-d401600ad209",
   "metadata": {},
   "outputs": [],
   "source": [
    "SUMMARY = {'significant_rois':[[] for i in range(len(episodes.varied_parameters['center-time']))]}\n",
    "\n",
    "duration = episodes.data.metadata['Protocol-2-presentation-duration']\n",
    "#duration = episodes.data.metadata['presentation-duration']\n",
    "    \n",
    "value_threshold = .6\n",
    "# looping over neurons\n",
    "for roi in range(episodes.data.nROIs):\n",
    "    roi_summary = episodes.compute_summary_data(dict(interval_pre=[-2,0], \n",
    "                                                     #interval_post=[0,duration],\n",
    "                                                     interval_post=[2,3],\n",
    "                                                      test='wilcoxon', \n",
    "                                                      positive=True),\n",
    "                                                 response_args={'quantity':'dFoF', \n",
    "                                                                'roiIndex':roi},\n",
    "                                               response_significance_threshold=0.01)\n",
    "    for istim, stim in enumerate(episodes.varied_parameters['center-time']):\n",
    "        if roi_summary['significant'][istim] and (roi_summary['value'][istim]>value_threshold):\n",
    "            SUMMARY['significant_rois'][istim].append(roi)\n",
    "            "
   ]
  },
  {
   "cell_type": "code",
   "execution_count": 96,
   "id": "1eef15e3-e405-4d72-a91f-24197579c384",
   "metadata": {},
   "outputs": [
    {
     "name": "stdout",
     "output_type": "stream",
     "text": [
      "[24, 30, 96, 34, 197, 199, 18, 91]\n"
     ]
    },
    {
     "data": {
      "image/png": "[encoded data removed]",
      "text/plain": [
       "<Figure size 167.301x207.496 with 4 Axes>"
      ]
     },
     "metadata": {},
     "output_type": "display_data"
    }
   ],
   "source": [
    "stim_index = 0\n",
    "np.random.seed(4)\n",
    "Nrois = min(len(SUMMARY['significant_rois'][stim_index]), 3)\n",
    "\n",
    "rois = list(np.random.choice(SUMMARY['significant_rois'][stim_index], 3,replace=False))+list(np.random.choice(np.arange(200),5, replace=False))\n",
    "print(rois)\n",
    "fig = episodes.plot_evoked_pattern(episodes.find_episode_cond('center-time',stim_index),\n",
    "                                   rois=rois,\n",
    "                                   quantity='dFoF', with_stim_inset=False)\n",
    "ge.save_on_desktop(fig)"
   ]
  },
  {
   "cell_type": "code",
   "execution_count": 97,
   "id": "1f004337-e209-4a9b-861d-2dc499748bad",
   "metadata": {},
   "outputs": [
    {
     "data": {
      "image/png": "[encoded data removed]",
      "text/plain": [
       "<Figure size 167.301x207.496 with 4 Axes>"
      ]
     },
     "metadata": {},
     "output_type": "display_data"
    }
   ],
   "source": [
    "stim_index = 0\n",
    "rois = [134, 52, 17, 21, 199, 120, 28, 24]\n",
    "fig = episodes.plot_evoked_pattern(episodes.find_episode_cond('center-time',stim_index),\n",
    "                                   rois=rois,\n",
    "                                   quantity='dFoF', with_stim_inset=False)\n",
    "ge.save_on_desktop(fig)"
   ]
  },
  {
   "cell_type": "code",
   "execution_count": null,
   "id": "a905b079-157d-491b-8a20-9a208fa0ba4c",
   "metadata": {},
   "outputs": [],
   "source": []
  }
 ],
 "metadata": {
  "kernelspec": {
   "display_name": "Python 3 (ipykernel)",
   "language": "python",
   "name": "python3"
  },
  "language_info": {
   "codemirror_mode": {
    "name": "ipython",
    "version": 3
   },
   "file_extension": ".py",
   "mimetype": "text/x-python",
   "name": "python",
   "nbconvert_exporter": "python",
   "pygments_lexer": "ipython3",
   "version": "3.7.10"
  }
 },
 "nbformat": 4,
 "nbformat_minor": 5
}

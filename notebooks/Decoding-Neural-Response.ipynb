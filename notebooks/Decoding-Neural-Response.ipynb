{
 "cells": [
  {
   "cell_type": "markdown",
   "id": "experienced-reviewer",
   "metadata": {},
   "source": [
    "# Decoding stimulus identity from neural responses\n",
    "\n",
    "We implement here a nearest-neighbor decoder of neural activity."
   ]
  },
  {
   "cell_type": "code",
   "execution_count": 1,
   "id": "weighted-cameroon",
   "metadata": {},
   "outputs": [],
   "source": [
    "# general modules\n",
    "import pynwb, os, sys, pprint, itertools\n",
    "import numpy as np\n",
    "import matplotlib.pylab as plt\n",
    "\n",
    "# custom modules\n",
    "sys.path.append('..')\n",
    "from physion.dataviz.show_data import MultimodalData, EpisodeResponse\n",
    "from datavyz import graph_env_manuscript as ge"
   ]
  },
  {
   "cell_type": "code",
   "execution_count": 2,
   "id": "b890dcf9",
   "metadata": {},
   "outputs": [
    {
     "name": "stdout",
     "output_type": "stream",
     "text": [
      "NWB-file reading time: 190.8ms\n",
      "  Number of episodes over the whole recording: 40/40 (with protocol condition)\n",
      "  building episodes with 3 modalities [...]\n",
      "\n",
      "calculating dF/F with method \"maximin\" [...]\n",
      "\n",
      "  ** 66 ROIs were discarded with the positive F0 criterion (42.6%) ** \n",
      "\n",
      "-> dFoF calculus done !  (calculation took 0.1s)\n",
      "  -> [ok] episodes ready !\n"
     ]
    }
   ],
   "source": [
    "filename = '/home/yann.zerlaut/DATA/2022_03_16-16-21-18.nwb'\n",
    "episodes = EpisodeResponse(filename, quantities=['dFoF', 'rawFluo', 'pupil'], \n",
    "                           verbose=True)"
   ]
  },
  {
   "cell_type": "code",
   "execution_count": 3,
   "id": "18f2f1f5",
   "metadata": {},
   "outputs": [
    {
     "name": "stdout",
     "output_type": "stream",
     "text": [
      "\n",
      " -* Varied Parameters *- \n",
      "\n",
      "{'Image-ID': array([3., 4.]),\n",
      " 'VSE-seed': array([3., 4.]),\n",
      " 'repeat': array([0, 1, 2, 3, 4, 5, 6, 7, 8, 9], dtype=int32)}\n",
      "['Image-ID', 'VSE-seed']\n"
     ]
    }
   ],
   "source": [
    "print('\\n -* Varied Parameters *- \\n')\n",
    "pprint.pprint(episodes.varied_parameters)\n",
    "VP = [key for key in episodes.varied_parameters if key!='repeat'] # varied parameters except rpeat\n",
    "print(VP)"
   ]
  },
  {
   "cell_type": "code",
   "execution_count": 4,
   "id": "3332e6b0",
   "metadata": {},
   "outputs": [],
   "source": [
    "SUMMARY = {'significant_rois':[[] for i in range(np.product([len(episodes.varied_parameters[key]) for key in VP]))],\n",
    "           'stim_pair':[[0,0], [0,1], [1,0], [1,1]]}\n",
    "\n",
    "duration = episodes.data.metadata['presentation-duration']\n",
    "value_threshold = .6\n",
    "# looping over neurons\n",
    "for roi in range(episodes.data.nROIs):\n",
    "    roi_summary = episodes.compute_summary_data(dict(interval_pre=[-2,0], \n",
    "                                                      interval_post=[0,duration],\n",
    "                                                      test='wilcoxon', \n",
    "                                                      positive=True),\n",
    "                                                 response_args={'quantity':'dFoF', \n",
    "                                                                'roiIndex':roi},\n",
    "                                               response_significance_threshold=0.01)\n",
    "    for istim in range(len(roi_summary['significant'])):\n",
    "        if roi_summary['significant'][istim] and (roi_summary['value'][istim]>value_threshold):\n",
    "            SUMMARY['significant_rois'][istim].append(roi)           \n",
    "            \n",
    "#print(SUMMARY['significant_rois'])\n",
    "#print(roi_summary)\n"
   ]
  },
  {
   "cell_type": "code",
   "execution_count": null,
   "id": "987b7556",
   "metadata": {},
   "outputs": [],
   "source": [
    "stim_index = 3\n",
    "np.random.seed(6)\n",
    "fig = episodes.plot_evoked_pattern(episodes.find_episode_cond(VP, SUMMARY['stim_pair'][stim_index]),\n",
    "                                   rois=np.random.choice(SUMMARY['significant_rois'][stim_index], 7),\n",
    "                                   quantity='dFoF')"
   ]
  },
  {
   "cell_type": "code",
   "execution_count": null,
   "id": "df2271e6",
   "metadata": {},
   "outputs": [],
   "source": [
    "fig, AX = ge.figure(axes_extents=[[[1,3] for i in range(4)],\n",
    "                                  [[1,9] for i in range(4)]], \n",
    "                     figsize=(1.3, .3), left=0.3,\n",
    "                     top=12, right=3, wspace=1.2)\n",
    " \n",
    "\n",
    "for stim_index in range(4):\n",
    "    np.random.seed(6)\n",
    "    episodes.plot_evoked_pattern(episodes.find_episode_cond(VP, SUMMARY['stim_pair'][stim_index]),\n",
    "                                   rois=np.random.choice(SUMMARY['significant_rois'][stim_index], 8, replace=False),\n",
    "                                   quantity='dFoF',\n",
    "                                 axR=AX[0][stim_index], axT=AX[1][stim_index])\n",
    "ge.save_on_desktop(fig, 'fig.png')"
   ]
  }
 ],
 "metadata": {
  "kernelspec": {
   "display_name": "Python 3 (ipykernel)",
   "language": "python",
   "name": "python3"
  },
  "language_info": {
   "codemirror_mode": {
    "name": "ipython",
    "version": 3
   },
   "file_extension": ".py",
   "mimetype": "text/x-python",
   "name": "python",
   "nbconvert_exporter": "python",
   "pygments_lexer": "ipython3",
   "version": "3.7.10"
  }
 },
 "nbformat": 4,
 "nbformat_minor": 5
}

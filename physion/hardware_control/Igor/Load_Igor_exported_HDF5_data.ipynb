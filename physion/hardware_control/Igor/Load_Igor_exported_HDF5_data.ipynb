{
 "cells": [
  {
   "cell_type": "markdown",
   "metadata": {},
   "source": [
    "# Load Igor-exported HDF5 data"
   ]
  },
  {
   "cell_type": "markdown",
   "metadata": {},
   "source": [
    "We load the script to load the HDF5 files exported from Igor Wavemetrics"
   ]
  },
  {
   "cell_type": "code",
   "execution_count": 1,
   "metadata": {},
   "outputs": [],
   "source": [
    "from analyz.IO.igor import load_hdf5_exported_from_Igor as load_data"
   ]
  },
  {
   "cell_type": "markdown",
   "metadata": {},
   "source": [
    "We build a `data` object (a python dictionary that stores all the data details) form the HDF5 file exported by IGOR based on a \".pxp\" experiment file"
   ]
  },
  {
   "cell_type": "code",
   "execution_count": 2,
   "metadata": {},
   "outputs": [],
   "source": [
    "import os, sys"
   ]
  },
  {
   "cell_type": "code",
   "execution_count": 3,
   "metadata": {},
   "outputs": [],
   "source": [
    "fn = 'D:DATA\\Data_Nunzio\\2020\\April\\nm30Apr2020c0\\nm30Apr2020c0_000.h5'"
   ]
  },
  {
   "cell_type": "code",
   "execution_count": 4,
   "metadata": {},
   "outputs": [],
   "source": [
    "if sys.platform=='win32': # If WINDOWS OS\n",
    "    root_data_folder = os.path.join('D:\\\\', 'DATA', 'Data_Nunzio') # Windows path type\n",
    "else:\n",
    "    root_data_folder = os.path.join('D:\\\\', 'DATA', 'Data_Nunzio') # UNIX path type\n",
    "    \n",
    "fn = os.path.join(root_data_folder,'2018','April','nm17Apr2019c1','nm17Apr2019c1_000_ctrl.h5')\n",
    "#fn = os.path.join(root_data_folder,'2020','April','nm30Apr2020c0','nm30Apr2020c0_000.h5')"
   ]
  },
  {
   "cell_type": "code",
   "execution_count": 5,
   "metadata": {},
   "outputs": [
    {
     "name": "stdout",
     "output_type": "stream",
     "text": [
      "- temporal sampling, original time step: 0.010ms\n",
      "    --> subsampled at 0.100ms\n",
      "- Recordings channels:\n",
      "  * 0) Irecording2 in nA\n",
      "- Stimulation channels:\n",
      "  * 0) Vcommand2 in mV\n",
      "  * 1) stim in V\n"
     ]
    }
   ],
   "source": [
    "#fn = '/media/yann/DATADRIVE1/Yann_Backup/DATA/Data_Nunzio/2018/April/nm17Apr2019c1/nm17Apr2019c1_000_ctrl.h5'\n",
    "data = load_data(fn, dt_subsampling=0.1, verbose=True)"
   ]
  },
  {
   "cell_type": "code",
   "execution_count": 6,
   "metadata": {},
   "outputs": [
    {
     "data": {
      "text/plain": [
       "dict_keys(['recordings', 'stimulations', 'Metadata', 't'])"
      ]
     },
     "execution_count": 6,
     "metadata": {},
     "output_type": "execute_result"
    }
   ],
   "source": [
    "# let's explore this object:\n",
    "data.keys()"
   ]
  },
  {
   "cell_type": "markdown",
   "metadata": {},
   "source": [
    "## \"recordings\"\n",
    "\n",
    "The `recordings` dictionary stores the data acquired during the experiment"
   ]
  },
  {
   "cell_type": "code",
   "execution_count": 7,
   "metadata": {},
   "outputs": [
    {
     "data": {
      "text/plain": [
       "{'Irecording2': array([[0.52902351, 0.5090531 , 0.50583207, ..., 0.54834971, 0.54577288,\n",
       "         0.53288875],\n",
       "        [0.53997502, 0.54577288, 0.52966772, ..., 0.54255185, 0.5567244 ,\n",
       "         0.54641709],\n",
       "        [0.56509908, 0.56960853, 0.57089694, ..., 0.58700211, 0.596021  ,\n",
       "         0.58571369],\n",
       "        ...,\n",
       "        [0.57218535, 0.57991583, 0.57218535, ..., 0.61148196, 0.61405879,\n",
       "         0.61921244],\n",
       "        [0.60375148, 0.57927163, 0.58056004, ..., 0.58764631, 0.59344417,\n",
       "         0.59215576],\n",
       "        [0.60375148, 0.59215576, 0.59795362, ..., 0.59924203, 0.6153472 ,\n",
       "         0.5863579 ]])}"
      ]
     },
     "execution_count": 7,
     "metadata": {},
     "output_type": "execute_result"
    }
   ],
   "source": [
    "data['recordings']"
   ]
  },
  {
   "cell_type": "markdown",
   "metadata": {},
   "source": [
    "Each recorded signal has a specific key (e.g. `\"Irecording2\"` above) and is stored as a numpy array of shape (nepisode, nsample)"
   ]
  },
  {
   "cell_type": "code",
   "execution_count": 8,
   "metadata": {},
   "outputs": [
    {
     "name": "stdout",
     "output_type": "stream",
     "text": [
      "(15, 10000)\n",
      "15.0 10000\n"
     ]
    }
   ],
   "source": [
    "# let's check the shape:\n",
    "print(data['recordings']['Irecording2'].shape)\n",
    "print(data['Metadata']['NumStimReps'], len(data['t'])) # to be compared with (nepisode, nsample)"
   ]
  },
  {
   "cell_type": "markdown",
   "metadata": {},
   "source": [
    "## \"stimulations\"\n",
    "\n",
    "The `stimulations` dictionary stores the stimuli used during the experiment."
   ]
  },
  {
   "cell_type": "code",
   "execution_count": 9,
   "metadata": {},
   "outputs": [
    {
     "data": {
      "text/plain": [
       "{'Vcommand2': array([0., 0., 0., ..., 0., 0., 0.], dtype=float32),\n",
       " 'stim': array([-1.27474777e-08, -5.67011949e-09, -1.35104194e-08, ...,\n",
       "        -2.23884982e-08, -7.81435983e-09, -3.26167893e-08], dtype=float32)}"
      ]
     },
     "execution_count": 9,
     "metadata": {},
     "output_type": "execute_result"
    }
   ],
   "source": [
    "data['stimulations']"
   ]
  },
  {
   "cell_type": "markdown",
   "metadata": {},
   "source": [
    "Each sent signal has a specific key (e.g. `\"stim\"` and `\"Vcommand2\"` above) and is stored as a numpy array of shape either (nepisode, nsample) or (nsample,) depending on whether the stimulus was varied over episodes or not."
   ]
  },
  {
   "cell_type": "markdown",
   "metadata": {},
   "source": [
    "## \"t\"\n",
    "\n",
    "the `data` dictionary has a key `t` that correspond to the time axis of the acquisition (it is very convenient to have this array pre-constructed for quick-analysis with `numpy`)."
   ]
  },
  {
   "cell_type": "code",
   "execution_count": 10,
   "metadata": {},
   "outputs": [
    {
     "name": "stdout",
     "output_type": "stream",
     "text": [
      "[0.000e+00 1.000e-01 2.000e-01 ... 9.997e+02 9.998e+02 9.999e+02]\n"
     ]
    }
   ],
   "source": [
    "print(data['t'])"
   ]
  },
  {
   "cell_type": "markdown",
   "metadata": {},
   "source": [
    "## \"Metadata\"\n",
    "\n",
    "The metadata are stored in the `data` dictionary under the key `Metadata`, it is itself a dictionary with keys corresponding to features stored within the Igor experiement file."
   ]
  },
  {
   "cell_type": "code",
   "execution_count": 11,
   "metadata": {},
   "outputs": [
    {
     "name": "stdout",
     "output_type": "stream",
     "text": [
      "{'AcqMode': 0.0,\n",
      " 'BoardConfigs': {'ADCboard': array([ 0., nan, nan, nan, nan, nan, nan, nan, nan, nan, nan, nan, nan,\n",
      "       nan, nan, nan], dtype=float32),\n",
      "                  'ADCchan': array([ 1., nan, nan, nan, nan, nan, nan, nan, nan, nan, nan, nan, nan,\n",
      "       nan, nan, nan], dtype=float32),\n",
      "                  'ADCgain': array([ 1., nan, nan, nan, nan, nan, nan, nan, nan, nan, nan, nan, nan,\n",
      "       nan, nan, nan], dtype=float32),\n",
      "                  'ADCmode': array(['', '', '', '', '', '', '', '', '', '', '', '', '', '', '', ''],\n",
      "      dtype=object),\n",
      "                  'ADCname': array(['Irecording2', '', '', '', '', '', '', '', '', '', '', '', '', '',\n",
      "       '', ''], dtype=object),\n",
      "                  'ADCscale': array([0.5, nan, nan, nan, nan, nan, nan, nan, nan, nan, nan, nan, nan,\n",
      "       nan, nan, nan], dtype=float32),\n",
      "                  'ADCtgain': array([nan, nan, nan, nan, nan, nan, nan, nan, nan, nan, nan, nan, nan,\n",
      "       nan, nan, nan], dtype=float32),\n",
      "                  'ADCunits': array(['nA', '', '', '', '', '', '', '', '', '', '', '', '', '', '', ''],\n",
      "      dtype=object),\n",
      "                  'DACboard': array([ 0.,  0., nan, nan, nan, nan, nan, nan, nan, nan, nan, nan, nan,\n",
      "       nan, nan, nan], dtype=float32),\n",
      "                  'DACchan': array([ 1.,  2., nan, nan, nan, nan, nan, nan, nan, nan, nan, nan, nan,\n",
      "       nan, nan, nan], dtype=float32),\n",
      "                  'DACname': array(['Vcommand2', 'stim', '', '', '', '', '', '', '', '', '', '', '',\n",
      "       '', '', ''], dtype=object),\n",
      "                  'DACscale': array([20.,  1., nan, nan, nan, nan, nan, nan, nan, nan, nan, nan, nan,\n",
      "       nan, nan, nan], dtype=float32),\n",
      "                  'DACunits': array(['mV', 'V', '', '', '', '', '', '', '', '', '', '', '', '', '', ''],\n",
      "      dtype=object),\n",
      "                  'TTLboard': array([nan, nan, nan, nan, nan, nan, nan, nan, nan, nan, nan, nan, nan,\n",
      "       nan, nan, nan], dtype=float32),\n",
      "                  'TTLchan': array([nan, nan, nan, nan, nan, nan, nan, nan, nan, nan, nan, nan, nan,\n",
      "       nan, nan, nan], dtype=float32),\n",
      "                  'TTLname': array(['', '', '', '', '', '', '', '', '', '', '', '', '', '', '', ''],\n",
      "      dtype=object),\n",
      "                  'TTLscale': array([nan, nan, nan, nan, nan, nan, nan, nan, nan, nan, nan, nan, nan,\n",
      "       nan, nan, nan], dtype=float32),\n",
      "                  'TTLunits': array(['', '', '', '', '', '', '', '', '', '', '', '', '', '', '', ''],\n",
      "      dtype=object)},\n",
      " 'CT_TimeIntvl': array([      nan, 29979.186, 29999.479, 30009.693, 29997.57 , 30000.39 ,\n",
      "       29994.172, 29999.896, 30007.957, 30001.008, 29998.965, 29999.678,\n",
      "       29997.756, 30003.037, 29993.322], dtype=float32),\n",
      " 'CT_TimeStamp': array([ 31069.049,  61048.234,  91047.71 , 121057.41 , 151054.98 ,\n",
      "       181055.38 , 211049.55 , 241049.44 , 271057.4  , 301058.4  ,\n",
      "       331057.38 , 361057.06 , 391054.8  , 421057.84 , 451051.16 ],\n",
      "      dtype=float32),\n",
      " 'ChanA': {'AutoScale': 1.0,\n",
      "           'FreezeX': 0.0,\n",
      "           'FreezeY': 0.0,\n",
      "           'GX0': 5.25,\n",
      "           'GX1': 645.0,\n",
      "           'GY0': 41.75,\n",
      "           'GY1': 383.0,\n",
      "           'Overlay': 0.0,\n",
      "           'OverlayCount': 0.0,\n",
      "           'SmoothA': '',\n",
      "           'SmoothN': 0.0,\n",
      "           'Xmax': 999.99,\n",
      "           'Xmin': 0.0,\n",
      "           'Ymax': 0.7812907501123314,\n",
      "           'Ymin': 0.25507317324422973},\n",
      " 'CurrentChan': 0.0,\n",
      " 'DAC_0_pulse': array(['wave=0;pulse=square;amp=-5;onset=850;width=100;', '', '', ''],\n",
      "      dtype=object),\n",
      " 'DAC_1_pulse': array(['wave=0;train=fixed;tbgn=200;tend=400;interval=50;pulse=square;amp=5;width=1;',\n",
      "       '', '', ''], dtype=object),\n",
      " 'DAC_2_pulse': array(['wave=0;pulse=square;amp=5;onset=0;width=1;', '', '', '', ''],\n",
      "      dtype=object),\n",
      " 'FileDateTime': 3602659321.382,\n",
      " 'FileFormat': 3.097,\n",
      " 'InterRepTime': 0.0,\n",
      " 'InterStimFxnList': '',\n",
      " 'InterStimTime': 29000.0,\n",
      " 'Irecording2_unit': 'nA',\n",
      " 'MultiClamp700': 0.0,\n",
      " 'MultiClampTelegraphs': {'serial837205_chan1': {'Alpha': 50.0,\n",
      "                                                 'ExtCmdSens': 0.02,\n",
      "                                                 'HardwareType': 1.0,\n",
      "                                                 'LPFCutoff': 10000.0,\n",
      "                                                 'MembraneCap': 0.0,\n",
      "                                                 'OperatingMode': 0.0,\n",
      "                                                 'RawOutSignal': 11.0,\n",
      "                                                 'RawScaleFactor': 10.0,\n",
      "                                                 'RawScaleFactorUnits': 0.0,\n",
      "                                                 'ScaleFactor': 0.5,\n",
      "                                                 'ScaleFactorUnits': 6.0,\n",
      "                                                 'ScaledOutSignal': 0.0,\n",
      "                                                 'SecondaryAlpha': 1.0,\n",
      "                                                 'SecondaryLPFCutoff': 10000.0,\n",
      "                                                 'SeriesResistance': 0.0},\n",
      "                          'serial837205_chan2': {'Alpha': 1.0,\n",
      "                                                 'ExtCmdSens': 0.02,\n",
      "                                                 'HardwareType': 1.0,\n",
      "                                                 'LPFCutoff': 10000.0,\n",
      "                                                 'MembraneCap': 0.0,\n",
      "                                                 'OperatingMode': 0.0,\n",
      "                                                 'RawOutSignal': 11.0,\n",
      "                                                 'RawScaleFactor': 10.0,\n",
      "                                                 'RawScaleFactorUnits': 0.0,\n",
      "                                                 'ScaleFactor': 0.5,\n",
      "                                                 'ScaleFactorUnits': 6.0,\n",
      "                                                 'ScaledOutSignal': 0.0,\n",
      "                                                 'SecondaryAlpha': 1.0,\n",
      "                                                 'SecondaryLPFCutoff': 10000.0,\n",
      "                                                 'SeriesResistance': 0.0}},\n",
      " 'Notes': {'F_Cm': nan, 'F_Relectrode': nan, 'F_Temp': nan},\n",
      " 'NumGrps': 1.0,\n",
      " 'NumPulseVar': 12.0,\n",
      " 'NumStimReps': 15.0,\n",
      " 'NumStimWaves': 1.0,\n",
      " 'PostStimFxnList': '',\n",
      " 'PreStimFxnList': '',\n",
      " 'RepRate': 0.03333333333333333,\n",
      " 'SampleInterval': 0.01,\n",
      " 'SamplesPerWave': 100000.0,\n",
      " 'StimRate': 0.03333333333333333,\n",
      " 'StimTag': '',\n",
      " 'TotalTime': 450.0,\n",
      " 'UseGlobalBoardConfigs': 1.0,\n",
      " 'V_Flag': 0.0,\n",
      " 'V_Progress': 0.0,\n",
      " 'Vcommand2_unit': 'mV',\n",
      " 'Version': 3.097,\n",
      " 'WaveLength': 1000.0,\n",
      " 'dt': 0.1,\n",
      " 'filename': 'D:\\\\DATA\\\\Data_Nunzio\\\\2018\\\\April\\\\nm17Apr2019c1\\\\nm17Apr2019c1_000_ctrl.h5',\n",
      " 'original_dt': 0.01,\n",
      " 'recording_type': 'voltage-clamp',\n",
      " 'stim_unit': 'V',\n",
      " 'yLabel': array(['Irecording2 (nA)'], dtype=object)}\n"
     ]
    }
   ],
   "source": [
    "import pprint # pretty print for this dictionary\n",
    "pprint.pprint(data['Metadata'])"
   ]
  },
  {
   "cell_type": "markdown",
   "metadata": {},
   "source": [
    "# Example analysis"
   ]
  },
  {
   "cell_type": "code",
   "execution_count": 12,
   "metadata": {},
   "outputs": [],
   "source": [
    "# import numpy for numerical analysis\n",
    "import numpy as np\n",
    "# import a data visualizaiton module\n",
    "from datavyz import graph_env_notebook as ge"
   ]
  },
  {
   "cell_type": "code",
   "execution_count": 13,
   "metadata": {},
   "outputs": [
    {
     "data": {
      "image/png": "[encoded data removed]",
      "text/plain": [
       "<Figure size 544.252x621.354 with 3 Axes>"
      ]
     },
     "metadata": {},
     "output_type": "display_data"
    }
   ],
   "source": [
    "fig, AX = ge.figure(axes_extents=[[[2,1]],[[2,1]],[[2,2]]], hspace=0.1)\n",
    "## STIMULATIONS\n",
    "AX[0].plot(data['t'], data['stimulations']['stim'], 'k')\n",
    "AX[1].plot(data['t'], data['stimulations']['Vcommand2'], 'k')\n",
    "ge.set_plot(AX[0], ['left'], ylabel='Stim. Cmd (V)')\n",
    "ge.set_plot(AX[1], ['left'], ylabel='$V_{cmd}$ (mV)')\n",
    "## RECORDINGS\n",
    "# compute trial-average\n",
    "mean = data['recordings']['Irecording2'].mean(axis=0)\n",
    "ge.plot(1e-3*data['t'], Y=1e3*data['recordings']['Irecording2'],\n",
    "        COLORS=['lightgray' for i in range(data['recordings']['Irecording2'].shape[0])], lw=0.3, ax=AX[2])\n",
    "AX[2].plot(1e-3*data['t'], 1e3*mean, 'k', label='trial-average')\n",
    "ge.set_plot(AX[2], ylabel='$I_{rec}$ (pA)', xlabel='time (s)')"
   ]
  },
  {
   "cell_type": "code",
   "execution_count": null,
   "metadata": {},
   "outputs": [],
   "source": []
  }
 ],
 "metadata": {
  "kernelspec": {
   "display_name": "Python 3",
   "language": "python",
   "name": "python3"
  },
  "language_info": {
   "codemirror_mode": {
    "name": "ipython",
    "version": 3
   },
   "file_extension": ".py",
   "mimetype": "text/x-python",
   "name": "python",
   "nbconvert_exporter": "python",
   "pygments_lexer": "ipython3",
   "version": "3.7.4"
  },
  "name": "Load_Igor_exported_HDF5_data.ipynb"
 },
 "nbformat": 4,
 "nbformat_minor": 2
}
